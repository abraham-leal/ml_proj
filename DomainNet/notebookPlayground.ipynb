{
 "cells": [
  {
   "cell_type": "code",
   "execution_count": 1,
   "id": "5855494e-6bbe-4c69-a09e-1cf812644dc8",
   "metadata": {},
   "outputs": [
    {
     "name": "stdout",
     "output_type": "stream",
     "text": [
      "Requirement already satisfied: datasets in /Users/abrahamleal/.pyenv/versions/3.11.4/envs/venv/lib/python3.11/site-packages (2.19.1)\n",
      "Requirement already satisfied: filelock in /Users/abrahamleal/.pyenv/versions/3.11.4/envs/venv/lib/python3.11/site-packages (from datasets) (3.14.0)\n",
      "Requirement already satisfied: numpy>=1.17 in /Users/abrahamleal/.pyenv/versions/3.11.4/envs/venv/lib/python3.11/site-packages (from datasets) (1.26.4)\n",
      "Requirement already satisfied: pyarrow>=12.0.0 in /Users/abrahamleal/.pyenv/versions/3.11.4/envs/venv/lib/python3.11/site-packages (from datasets) (16.1.0)\n",
      "Requirement already satisfied: pyarrow-hotfix in /Users/abrahamleal/.pyenv/versions/3.11.4/envs/venv/lib/python3.11/site-packages (from datasets) (0.6)\n",
      "Requirement already satisfied: dill<0.3.9,>=0.3.0 in /Users/abrahamleal/.pyenv/versions/3.11.4/envs/venv/lib/python3.11/site-packages (from datasets) (0.3.8)\n",
      "Requirement already satisfied: pandas in /Users/abrahamleal/.pyenv/versions/3.11.4/envs/venv/lib/python3.11/site-packages (from datasets) (2.2.2)\n",
      "Requirement already satisfied: requests>=2.19.0 in /Users/abrahamleal/.pyenv/versions/3.11.4/envs/venv/lib/python3.11/site-packages (from datasets) (2.31.0)\n",
      "Requirement already satisfied: tqdm>=4.62.1 in /Users/abrahamleal/.pyenv/versions/3.11.4/envs/venv/lib/python3.11/site-packages (from datasets) (4.66.4)\n",
      "Requirement already satisfied: xxhash in /Users/abrahamleal/.pyenv/versions/3.11.4/envs/venv/lib/python3.11/site-packages (from datasets) (3.4.1)\n",
      "Requirement already satisfied: multiprocess in /Users/abrahamleal/.pyenv/versions/3.11.4/envs/venv/lib/python3.11/site-packages (from datasets) (0.70.16)\n",
      "Requirement already satisfied: fsspec<=2024.3.1,>=2023.1.0 in /Users/abrahamleal/.pyenv/versions/3.11.4/envs/venv/lib/python3.11/site-packages (from fsspec[http]<=2024.3.1,>=2023.1.0->datasets) (2024.3.1)\n",
      "Requirement already satisfied: aiohttp in /Users/abrahamleal/.pyenv/versions/3.11.4/envs/venv/lib/python3.11/site-packages (from datasets) (3.9.5)\n",
      "Requirement already satisfied: huggingface-hub>=0.21.2 in /Users/abrahamleal/.pyenv/versions/3.11.4/envs/venv/lib/python3.11/site-packages (from datasets) (0.23.0)\n",
      "Requirement already satisfied: packaging in /Users/abrahamleal/.pyenv/versions/3.11.4/envs/venv/lib/python3.11/site-packages (from datasets) (24.0)\n",
      "Requirement already satisfied: pyyaml>=5.1 in /Users/abrahamleal/.pyenv/versions/3.11.4/envs/venv/lib/python3.11/site-packages (from datasets) (6.0.1)\n",
      "Requirement already satisfied: aiosignal>=1.1.2 in /Users/abrahamleal/.pyenv/versions/3.11.4/envs/venv/lib/python3.11/site-packages (from aiohttp->datasets) (1.3.1)\n",
      "Requirement already satisfied: attrs>=17.3.0 in /Users/abrahamleal/.pyenv/versions/3.11.4/envs/venv/lib/python3.11/site-packages (from aiohttp->datasets) (23.2.0)\n",
      "Requirement already satisfied: frozenlist>=1.1.1 in /Users/abrahamleal/.pyenv/versions/3.11.4/envs/venv/lib/python3.11/site-packages (from aiohttp->datasets) (1.4.1)\n",
      "Requirement already satisfied: multidict<7.0,>=4.5 in /Users/abrahamleal/.pyenv/versions/3.11.4/envs/venv/lib/python3.11/site-packages (from aiohttp->datasets) (6.0.5)\n",
      "Requirement already satisfied: yarl<2.0,>=1.0 in /Users/abrahamleal/.pyenv/versions/3.11.4/envs/venv/lib/python3.11/site-packages (from aiohttp->datasets) (1.9.4)\n",
      "Requirement already satisfied: typing-extensions>=3.7.4.3 in /Users/abrahamleal/.pyenv/versions/3.11.4/envs/venv/lib/python3.11/site-packages (from huggingface-hub>=0.21.2->datasets) (4.11.0)\n",
      "Requirement already satisfied: charset-normalizer<4,>=2 in /Users/abrahamleal/.pyenv/versions/3.11.4/envs/venv/lib/python3.11/site-packages (from requests>=2.19.0->datasets) (3.3.2)\n",
      "Requirement already satisfied: idna<4,>=2.5 in /Users/abrahamleal/.pyenv/versions/3.11.4/envs/venv/lib/python3.11/site-packages (from requests>=2.19.0->datasets) (3.7)\n",
      "Requirement already satisfied: urllib3<3,>=1.21.1 in /Users/abrahamleal/.pyenv/versions/3.11.4/envs/venv/lib/python3.11/site-packages (from requests>=2.19.0->datasets) (2.2.1)\n",
      "Requirement already satisfied: certifi>=2017.4.17 in /Users/abrahamleal/.pyenv/versions/3.11.4/envs/venv/lib/python3.11/site-packages (from requests>=2.19.0->datasets) (2024.2.2)\n",
      "Requirement already satisfied: python-dateutil>=2.8.2 in /Users/abrahamleal/.pyenv/versions/3.11.4/envs/venv/lib/python3.11/site-packages (from pandas->datasets) (2.9.0.post0)\n",
      "Requirement already satisfied: pytz>=2020.1 in /Users/abrahamleal/.pyenv/versions/3.11.4/envs/venv/lib/python3.11/site-packages (from pandas->datasets) (2024.1)\n",
      "Requirement already satisfied: tzdata>=2022.7 in /Users/abrahamleal/.pyenv/versions/3.11.4/envs/venv/lib/python3.11/site-packages (from pandas->datasets) (2024.1)\n",
      "Requirement already satisfied: six>=1.5 in /Users/abrahamleal/.pyenv/versions/3.11.4/envs/venv/lib/python3.11/site-packages (from python-dateutil>=2.8.2->pandas->datasets) (1.16.0)\n",
      "Note: you may need to restart the kernel to use updated packages.\n",
      "Requirement already satisfied: torch in /Users/abrahamleal/.pyenv/versions/3.11.4/envs/venv/lib/python3.11/site-packages (2.2.2)\n",
      "Requirement already satisfied: filelock in /Users/abrahamleal/.pyenv/versions/3.11.4/envs/venv/lib/python3.11/site-packages (from torch) (3.14.0)\n",
      "Requirement already satisfied: typing-extensions>=4.8.0 in /Users/abrahamleal/.pyenv/versions/3.11.4/envs/venv/lib/python3.11/site-packages (from torch) (4.11.0)\n",
      "Requirement already satisfied: sympy in /Users/abrahamleal/.pyenv/versions/3.11.4/envs/venv/lib/python3.11/site-packages (from torch) (1.12)\n",
      "Requirement already satisfied: networkx in /Users/abrahamleal/.pyenv/versions/3.11.4/envs/venv/lib/python3.11/site-packages (from torch) (3.3)\n",
      "Requirement already satisfied: jinja2 in /Users/abrahamleal/.pyenv/versions/3.11.4/envs/venv/lib/python3.11/site-packages (from torch) (3.1.4)\n",
      "Requirement already satisfied: fsspec in /Users/abrahamleal/.pyenv/versions/3.11.4/envs/venv/lib/python3.11/site-packages (from torch) (2024.3.1)\n",
      "Requirement already satisfied: MarkupSafe>=2.0 in /Users/abrahamleal/.pyenv/versions/3.11.4/envs/venv/lib/python3.11/site-packages (from jinja2->torch) (2.1.5)\n",
      "Requirement already satisfied: mpmath>=0.19 in /Users/abrahamleal/.pyenv/versions/3.11.4/envs/venv/lib/python3.11/site-packages (from sympy->torch) (1.3.0)\n",
      "Note: you may need to restart the kernel to use updated packages.\n",
      "Collecting torchvision\n",
      "  Using cached torchvision-0.18.1-cp311-cp311-macosx_11_0_arm64.whl.metadata (6.6 kB)\n",
      "Requirement already satisfied: numpy in /Users/abrahamleal/.pyenv/versions/3.11.4/envs/venv/lib/python3.11/site-packages (from torchvision) (1.26.4)\n",
      "Collecting torch==2.3.1 (from torchvision)\n",
      "  Using cached torch-2.3.1-cp311-none-macosx_11_0_arm64.whl.metadata (26 kB)\n",
      "Requirement already satisfied: pillow!=8.3.*,>=5.3.0 in /Users/abrahamleal/.pyenv/versions/3.11.4/envs/venv/lib/python3.11/site-packages (from torchvision) (10.3.0)\n",
      "Requirement already satisfied: filelock in /Users/abrahamleal/.pyenv/versions/3.11.4/envs/venv/lib/python3.11/site-packages (from torch==2.3.1->torchvision) (3.14.0)\n",
      "Requirement already satisfied: typing-extensions>=4.8.0 in /Users/abrahamleal/.pyenv/versions/3.11.4/envs/venv/lib/python3.11/site-packages (from torch==2.3.1->torchvision) (4.11.0)\n",
      "Requirement already satisfied: sympy in /Users/abrahamleal/.pyenv/versions/3.11.4/envs/venv/lib/python3.11/site-packages (from torch==2.3.1->torchvision) (1.12)\n",
      "Requirement already satisfied: networkx in /Users/abrahamleal/.pyenv/versions/3.11.4/envs/venv/lib/python3.11/site-packages (from torch==2.3.1->torchvision) (3.3)\n",
      "Requirement already satisfied: jinja2 in /Users/abrahamleal/.pyenv/versions/3.11.4/envs/venv/lib/python3.11/site-packages (from torch==2.3.1->torchvision) (3.1.4)\n",
      "Requirement already satisfied: fsspec in /Users/abrahamleal/.pyenv/versions/3.11.4/envs/venv/lib/python3.11/site-packages (from torch==2.3.1->torchvision) (2024.3.1)\n",
      "Requirement already satisfied: MarkupSafe>=2.0 in /Users/abrahamleal/.pyenv/versions/3.11.4/envs/venv/lib/python3.11/site-packages (from jinja2->torch==2.3.1->torchvision) (2.1.5)\n",
      "Requirement already satisfied: mpmath>=0.19 in /Users/abrahamleal/.pyenv/versions/3.11.4/envs/venv/lib/python3.11/site-packages (from sympy->torch==2.3.1->torchvision) (1.3.0)\n",
      "Using cached torchvision-0.18.1-cp311-cp311-macosx_11_0_arm64.whl (1.6 MB)\n",
      "Using cached torch-2.3.1-cp311-none-macosx_11_0_arm64.whl (61.0 MB)\n",
      "Installing collected packages: torch, torchvision\n",
      "  Attempting uninstall: torch\n",
      "    Found existing installation: torch 2.2.2\n",
      "    Uninstalling torch-2.2.2:\n",
      "      Successfully uninstalled torch-2.2.2\n",
      "\u001b[31mERROR: pip's dependency resolver does not currently take into account all the packages that are installed. This behaviour is the source of the following dependency conflicts.\n",
      "torchtext 0.17.2 requires torch==2.2.2, but you have torch 2.3.1 which is incompatible.\u001b[0m\u001b[31m\n",
      "\u001b[0mSuccessfully installed torch-2.3.1 torchvision-0.18.1\n",
      "Note: you may need to restart the kernel to use updated packages.\n"
     ]
    }
   ],
   "source": [
    "%pip install datasets\n",
    "%pip install torch\n",
    "%pip install torchvision"
   ]
  },
  {
   "cell_type": "code",
   "execution_count": 2,
   "id": "19549919-6262-4ffa-8bc8-cfc766305d31",
   "metadata": {},
   "outputs": [
    {
     "name": "stdout",
     "output_type": "stream",
     "text": [
      "\u001b[34m\u001b[1mwandb\u001b[0m: Currently logged in as: \u001b[33mableal\u001b[0m (\u001b[33mwandb-smle\u001b[0m). Use \u001b[1m`wandb login --relogin`\u001b[0m to force relogin\n"
     ]
    }
   ],
   "source": [
    "!wandb login"
   ]
  },
  {
   "cell_type": "code",
   "execution_count": 4,
   "id": "d180c377-b383-4e97-b9b1-5b292984bc56",
   "metadata": {},
   "outputs": [],
   "source": [
    "## Imports\n",
    "from datasets import load_dataset, Dataset\n",
    "import torch\n",
    "import torch.nn as nn\n",
    "from torchvision.transforms import v2\n",
    "import torch.utils.data\n",
    "import wandb\n",
    "import torch.optim as optim\n",
    "from torch.optim.lr_scheduler import StepLR\n",
    "import torch.nn.functional as F\n",
    "import gc"
   ]
  },
  {
   "cell_type": "code",
   "execution_count": 5,
   "id": "c93b861b-9197-4ca3-947f-0780340cf5ac",
   "metadata": {},
   "outputs": [
    {
     "name": "stderr",
     "output_type": "stream",
     "text": [
      "\u001b[34m\u001b[1mwandb\u001b[0m: Currently logged in as: \u001b[33mableal\u001b[0m (\u001b[33mwandb-smle\u001b[0m). Use \u001b[1m`wandb login --relogin`\u001b[0m to force relogin\n"
     ]
    },
    {
     "data": {
      "text/html": [
       "wandb version 0.17.4 is available!  To upgrade, please run:\n",
       " $ pip install wandb --upgrade"
      ],
      "text/plain": [
       "<IPython.core.display.HTML object>"
      ]
     },
     "metadata": {},
     "output_type": "display_data"
    },
    {
     "data": {
      "text/html": [
       "Tracking run with wandb version 0.17.0"
      ],
      "text/plain": [
       "<IPython.core.display.HTML object>"
      ]
     },
     "metadata": {},
     "output_type": "display_data"
    },
    {
     "data": {
      "text/html": [
       "Run data is saved locally in <code>/Users/abrahamleal/Documents/git/mlPreso/mlPreso/wandb/run-20240708_091721-stilted-morning-60</code>"
      ],
      "text/plain": [
       "<IPython.core.display.HTML object>"
      ]
     },
     "metadata": {},
     "output_type": "display_data"
    },
    {
     "data": {
      "text/html": [
       "Resuming run <strong><a href='https://wandb.ai/wandb-smle/aleal-domain-img/runs/stilted-morning-60' target=\"_blank\">stilted-morning-60</a></strong> to <a href='https://wandb.ai/wandb-smle/aleal-domain-img' target=\"_blank\">Weights & Biases</a> (<a href='https://wandb.me/run' target=\"_blank\">docs</a>)<br/>"
      ],
      "text/plain": [
       "<IPython.core.display.HTML object>"
      ]
     },
     "metadata": {},
     "output_type": "display_data"
    },
    {
     "data": {
      "text/html": [
       " View project at <a href='https://wandb.ai/wandb-smle/aleal-domain-img' target=\"_blank\">https://wandb.ai/wandb-smle/aleal-domain-img</a>"
      ],
      "text/plain": [
       "<IPython.core.display.HTML object>"
      ]
     },
     "metadata": {},
     "output_type": "display_data"
    },
    {
     "data": {
      "text/html": [
       " View run at <a href='https://wandb.ai/wandb-smle/aleal-domain-img/runs/stilted-morning-60' target=\"_blank\">https://wandb.ai/wandb-smle/aleal-domain-img/runs/stilted-morning-60</a>"
      ],
      "text/plain": [
       "<IPython.core.display.HTML object>"
      ]
     },
     "metadata": {},
     "output_type": "display_data"
    }
   ],
   "source": [
    "#set run\n",
    "run = wandb.init(entity=\"wandb-smle\",\n",
    "        project=\"aleal-domain-img\", config=\"./config.yaml\", save_code=True,\n",
    "                 group=\"evaluate\", force=True,\n",
    "                 id=\"stilted-morning-60\", resume=\"allow\")"
   ]
  },
  {
   "cell_type": "code",
   "execution_count": 7,
   "id": "82d64e45-1a92-4aa9-8638-0c3a7773a902",
   "metadata": {},
   "outputs": [
    {
     "name": "stderr",
     "output_type": "stream",
     "text": [
      "Creating CSV from Arrow format: 100%|█████████████████████████████████████████████| 82/82 [01:39<00:00,  1.21s/ba]\n",
      "Creating CSV from Arrow format: 100%|███████████████████████████████████████████| 328/328 [06:32<00:00,  1.20s/ba]\n",
      "Creating CSV from Arrow format: 100%|███████████████████████████████████████████| 177/177 [02:53<00:00,  1.02ba/s]\n"
     ]
    }
   ],
   "source": [
    "#load all data\n",
    "torch.manual_seed(42)\n",
    "\n",
    "device = torch.device(\"mps\")\n",
    "\n",
    "# fetch from hugging face\n",
    "full_load = load_dataset(\"wltjr1007/DomainNet\")\n",
    "s_train_data = full_load['train']\n",
    "test_set = full_load['test']\n",
    "\n",
    "# split train set into train/validation\n",
    "split_train_data = s_train_data.train_test_split(test_size=wandb.config[\"test_size\"])\n",
    "training_set = split_train_data[\"train\"]\n",
    "validation_set = split_train_data[\"test\"]\n",
    "\n",
    "# construct wandb artifact, add the datasets\n",
    "hf_data_set = wandb.Artifact(name=\"hf-dataset\", type=\"dataset\")\n",
    "names = [\"training\", \"validation\", \"test\"]\n",
    "datasets = [training_set, validation_set, test_set]\n",
    "\n",
    "name: str\n",
    "dataset: Dataset\n",
    "for name, dataset in zip(names, datasets):\n",
    "    # 🐣 Store a new file in the artifact, and write something into its contents.\n",
    "    dataset.set_format(\"torch\")\n",
    "    with hf_data_set.new_file(name + \".csv\", mode=\"wb\") as file:\n",
    "        dataset.to_csv(file)\n",
    "\n",
    "\n",
    "run.log_artifact(hf_data_set)\n",
    "\n",
    "# turn into dataloaders and return\n",
    "\n",
    "transforms = v2.Compose([\n",
    "    v2.ToImage(),\n",
    "    v2.Resize(size=(300, 300), antialias=True),\n",
    "    v2.ToDtype(torch.float32, scale=True),  # Normalize expects float input\n",
    "    v2.Normalize(mean=[0.485, 0.456, 0.406], std=[0.229, 0.224, 0.225]),\n",
    "])\n",
    "\n",
    "train_kwargs = {'batch_size': wandb.config[\"trainBatchSize\"]}\n",
    "test_kwargs = {'batch_size': 1000}\n",
    "\n",
    "torch_training_set = training_set.with_format(\"torch\")\n",
    "torch_validation_set = validation_set.with_format(\"torch\")\n",
    "torch_testing_set = test_set.with_format(\"torch\")\n",
    "\n",
    "torch_training_set.set_transform(transforms)\n",
    "torch_validation_set.set_transform(transforms)\n",
    "torch_testing_set.set_transform(transforms)\n",
    "\n",
    "train_loader = torch.utils.data.DataLoader(torch_training_set, **train_kwargs)\n",
    "test_loader = torch.utils.data.DataLoader(torch_testing_set, **test_kwargs)\n",
    "validation_loader = torch.utils.data.DataLoader(torch_validation_set, **test_kwargs)\n",
    "\n",
    "\n"
   ]
  },
  {
   "cell_type": "code",
   "execution_count": 8,
   "id": "cfcd6c86-e30f-414d-8be4-a82f4d38ce45",
   "metadata": {},
   "outputs": [],
   "source": [
    "#define the model\n",
    "class imageModel(nn.Module):\n",
    "    def __init__(self):\n",
    "        super(imageModel, self).__init__()\n",
    "        self.conv1 = nn.Conv2d(3, 16, 3, 1)\n",
    "        self.conv2 = nn.Conv2d(16, 32, 3, 1)\n",
    "        self.dropout1 = nn.Dropout(0.25)\n",
    "        self.dropout2 = nn.Dropout(0.5)\n",
    "        self.fc1 = nn.Linear(700928, 64)\n",
    "        self.fc2 = nn.Linear(64, 345)\n",
    "\n",
    "    def forward(self, x):\n",
    "        x = self.conv1(x)\n",
    "        x = F.relu(x)\n",
    "        x = self.conv2(x)\n",
    "        x = F.relu(x)\n",
    "        x = F.max_pool2d(x, 2)\n",
    "        x = self.dropout1(x)\n",
    "        x = torch.flatten(x, 1)\n",
    "        x = self.fc1(x)\n",
    "        x = F.relu(x)\n",
    "        x = self.dropout2(x)\n",
    "        x = self.fc2(x)\n",
    "        output = F.log_softmax(x, dim=1)\n",
    "        return output"
   ]
  },
  {
   "cell_type": "code",
   "execution_count": 14,
   "id": "f2b264b8-c674-4c14-b874-92ebc17e3171",
   "metadata": {},
   "outputs": [
    {
     "data": {
      "text/plain": [
       "<All keys matched successfully>"
      ]
     },
     "execution_count": 14,
     "metadata": {},
     "output_type": "execute_result"
    }
   ],
   "source": [
    "artifact = run.use_artifact(\"DomainNet-Model:latest\")\n",
    "reuseModel = imageModel()\n",
    "reuseModel.load_state_dict(torch.load(artifact.file(), map_location=torch.device('mps')))"
   ]
  },
  {
   "cell_type": "code",
   "execution_count": 15,
   "id": "afabff15-dd2b-4d55-9069-36442ab9b361",
   "metadata": {},
   "outputs": [
    {
     "name": "stdout",
     "output_type": "stream",
     "text": [
      "Test batch: 0 [0/327866 (0%)]\tLoss: 5851.530273\n"
     ]
    },
    {
     "ename": "KeyboardInterrupt",
     "evalue": "",
     "output_type": "error",
     "traceback": [
      "\u001b[0;31m---------------------------------------------------------------------------\u001b[0m",
      "\u001b[0;31mKeyboardInterrupt\u001b[0m                         Traceback (most recent call last)",
      "Cell \u001b[0;32mIn[15], line 8\u001b[0m\n\u001b[1;32m      6\u001b[0m img, lbl \u001b[38;5;241m=\u001b[39m data[\u001b[38;5;124m\"\u001b[39m\u001b[38;5;124mimage\u001b[39m\u001b[38;5;124m\"\u001b[39m], data[\u001b[38;5;124m\"\u001b[39m\u001b[38;5;124mlabel\u001b[39m\u001b[38;5;124m\"\u001b[39m]\n\u001b[1;32m      7\u001b[0m img, lbl \u001b[38;5;241m=\u001b[39m img\u001b[38;5;241m.\u001b[39mto(device), lbl\u001b[38;5;241m.\u001b[39mto(device)\n\u001b[0;32m----> 8\u001b[0m output \u001b[38;5;241m=\u001b[39m \u001b[43mreuseModel\u001b[49m\u001b[43m(\u001b[49m\u001b[43mimg\u001b[49m\u001b[43m)\u001b[49m\n\u001b[1;32m      9\u001b[0m test_loss \u001b[38;5;241m+\u001b[39m\u001b[38;5;241m=\u001b[39m F\u001b[38;5;241m.\u001b[39mnll_loss(output, lbl, reduction\u001b[38;5;241m=\u001b[39m\u001b[38;5;124m'\u001b[39m\u001b[38;5;124msum\u001b[39m\u001b[38;5;124m'\u001b[39m)\u001b[38;5;241m.\u001b[39mitem()\n\u001b[1;32m     10\u001b[0m accuracy \u001b[38;5;241m=\u001b[39m batch_idx \u001b[38;5;241m/\u001b[39m \u001b[38;5;28mlen\u001b[39m(validation_loader)\n",
      "File \u001b[0;32m~/.pyenv/versions/3.11.4/envs/venv/lib/python3.11/site-packages/torch/nn/modules/module.py:1532\u001b[0m, in \u001b[0;36mModule._wrapped_call_impl\u001b[0;34m(self, *args, **kwargs)\u001b[0m\n\u001b[1;32m   1530\u001b[0m     \u001b[38;5;28;01mreturn\u001b[39;00m \u001b[38;5;28mself\u001b[39m\u001b[38;5;241m.\u001b[39m_compiled_call_impl(\u001b[38;5;241m*\u001b[39margs, \u001b[38;5;241m*\u001b[39m\u001b[38;5;241m*\u001b[39mkwargs)  \u001b[38;5;66;03m# type: ignore[misc]\u001b[39;00m\n\u001b[1;32m   1531\u001b[0m \u001b[38;5;28;01melse\u001b[39;00m:\n\u001b[0;32m-> 1532\u001b[0m     \u001b[38;5;28;01mreturn\u001b[39;00m \u001b[38;5;28;43mself\u001b[39;49m\u001b[38;5;241;43m.\u001b[39;49m\u001b[43m_call_impl\u001b[49m\u001b[43m(\u001b[49m\u001b[38;5;241;43m*\u001b[39;49m\u001b[43margs\u001b[49m\u001b[43m,\u001b[49m\u001b[43m \u001b[49m\u001b[38;5;241;43m*\u001b[39;49m\u001b[38;5;241;43m*\u001b[39;49m\u001b[43mkwargs\u001b[49m\u001b[43m)\u001b[49m\n",
      "File \u001b[0;32m~/.pyenv/versions/3.11.4/envs/venv/lib/python3.11/site-packages/torch/nn/modules/module.py:1541\u001b[0m, in \u001b[0;36mModule._call_impl\u001b[0;34m(self, *args, **kwargs)\u001b[0m\n\u001b[1;32m   1536\u001b[0m \u001b[38;5;66;03m# If we don't have any hooks, we want to skip the rest of the logic in\u001b[39;00m\n\u001b[1;32m   1537\u001b[0m \u001b[38;5;66;03m# this function, and just call forward.\u001b[39;00m\n\u001b[1;32m   1538\u001b[0m \u001b[38;5;28;01mif\u001b[39;00m \u001b[38;5;129;01mnot\u001b[39;00m (\u001b[38;5;28mself\u001b[39m\u001b[38;5;241m.\u001b[39m_backward_hooks \u001b[38;5;129;01mor\u001b[39;00m \u001b[38;5;28mself\u001b[39m\u001b[38;5;241m.\u001b[39m_backward_pre_hooks \u001b[38;5;129;01mor\u001b[39;00m \u001b[38;5;28mself\u001b[39m\u001b[38;5;241m.\u001b[39m_forward_hooks \u001b[38;5;129;01mor\u001b[39;00m \u001b[38;5;28mself\u001b[39m\u001b[38;5;241m.\u001b[39m_forward_pre_hooks\n\u001b[1;32m   1539\u001b[0m         \u001b[38;5;129;01mor\u001b[39;00m _global_backward_pre_hooks \u001b[38;5;129;01mor\u001b[39;00m _global_backward_hooks\n\u001b[1;32m   1540\u001b[0m         \u001b[38;5;129;01mor\u001b[39;00m _global_forward_hooks \u001b[38;5;129;01mor\u001b[39;00m _global_forward_pre_hooks):\n\u001b[0;32m-> 1541\u001b[0m     \u001b[38;5;28;01mreturn\u001b[39;00m \u001b[43mforward_call\u001b[49m\u001b[43m(\u001b[49m\u001b[38;5;241;43m*\u001b[39;49m\u001b[43margs\u001b[49m\u001b[43m,\u001b[49m\u001b[43m \u001b[49m\u001b[38;5;241;43m*\u001b[39;49m\u001b[38;5;241;43m*\u001b[39;49m\u001b[43mkwargs\u001b[49m\u001b[43m)\u001b[49m\n\u001b[1;32m   1543\u001b[0m \u001b[38;5;28;01mtry\u001b[39;00m:\n\u001b[1;32m   1544\u001b[0m     result \u001b[38;5;241m=\u001b[39m \u001b[38;5;28;01mNone\u001b[39;00m\n",
      "Cell \u001b[0;32mIn[8], line 17\u001b[0m, in \u001b[0;36mimageModel.forward\u001b[0;34m(self, x)\u001b[0m\n\u001b[1;32m     15\u001b[0m x \u001b[38;5;241m=\u001b[39m \u001b[38;5;28mself\u001b[39m\u001b[38;5;241m.\u001b[39mconv2(x)\n\u001b[1;32m     16\u001b[0m x \u001b[38;5;241m=\u001b[39m F\u001b[38;5;241m.\u001b[39mrelu(x)\n\u001b[0;32m---> 17\u001b[0m x \u001b[38;5;241m=\u001b[39m \u001b[43mF\u001b[49m\u001b[38;5;241;43m.\u001b[39;49m\u001b[43mmax_pool2d\u001b[49m\u001b[43m(\u001b[49m\u001b[43mx\u001b[49m\u001b[43m,\u001b[49m\u001b[43m \u001b[49m\u001b[38;5;241;43m2\u001b[39;49m\u001b[43m)\u001b[49m\n\u001b[1;32m     18\u001b[0m x \u001b[38;5;241m=\u001b[39m \u001b[38;5;28mself\u001b[39m\u001b[38;5;241m.\u001b[39mdropout1(x)\n\u001b[1;32m     19\u001b[0m x \u001b[38;5;241m=\u001b[39m torch\u001b[38;5;241m.\u001b[39mflatten(x, \u001b[38;5;241m1\u001b[39m)\n",
      "File \u001b[0;32m~/.pyenv/versions/3.11.4/envs/venv/lib/python3.11/site-packages/torch/_jit_internal.py:497\u001b[0m, in \u001b[0;36mboolean_dispatch.<locals>.fn\u001b[0;34m(*args, **kwargs)\u001b[0m\n\u001b[1;32m    495\u001b[0m     \u001b[38;5;28;01mreturn\u001b[39;00m if_true(\u001b[38;5;241m*\u001b[39margs, \u001b[38;5;241m*\u001b[39m\u001b[38;5;241m*\u001b[39mkwargs)\n\u001b[1;32m    496\u001b[0m \u001b[38;5;28;01melse\u001b[39;00m:\n\u001b[0;32m--> 497\u001b[0m     \u001b[38;5;28;01mreturn\u001b[39;00m \u001b[43mif_false\u001b[49m\u001b[43m(\u001b[49m\u001b[38;5;241;43m*\u001b[39;49m\u001b[43margs\u001b[49m\u001b[43m,\u001b[49m\u001b[43m \u001b[49m\u001b[38;5;241;43m*\u001b[39;49m\u001b[38;5;241;43m*\u001b[39;49m\u001b[43mkwargs\u001b[49m\u001b[43m)\u001b[49m\n",
      "File \u001b[0;32m~/.pyenv/versions/3.11.4/envs/venv/lib/python3.11/site-packages/torch/nn/functional.py:796\u001b[0m, in \u001b[0;36m_max_pool2d\u001b[0;34m(input, kernel_size, stride, padding, dilation, ceil_mode, return_indices)\u001b[0m\n\u001b[1;32m    794\u001b[0m \u001b[38;5;28;01mif\u001b[39;00m stride \u001b[38;5;129;01mis\u001b[39;00m \u001b[38;5;28;01mNone\u001b[39;00m:\n\u001b[1;32m    795\u001b[0m     stride \u001b[38;5;241m=\u001b[39m torch\u001b[38;5;241m.\u001b[39mjit\u001b[38;5;241m.\u001b[39mannotate(List[\u001b[38;5;28mint\u001b[39m], [])\n\u001b[0;32m--> 796\u001b[0m \u001b[38;5;28;01mreturn\u001b[39;00m \u001b[43mtorch\u001b[49m\u001b[38;5;241;43m.\u001b[39;49m\u001b[43mmax_pool2d\u001b[49m\u001b[43m(\u001b[49m\u001b[38;5;28;43minput\u001b[39;49m\u001b[43m,\u001b[49m\u001b[43m \u001b[49m\u001b[43mkernel_size\u001b[49m\u001b[43m,\u001b[49m\u001b[43m \u001b[49m\u001b[43mstride\u001b[49m\u001b[43m,\u001b[49m\u001b[43m \u001b[49m\u001b[43mpadding\u001b[49m\u001b[43m,\u001b[49m\u001b[43m \u001b[49m\u001b[43mdilation\u001b[49m\u001b[43m,\u001b[49m\u001b[43m \u001b[49m\u001b[43mceil_mode\u001b[49m\u001b[43m)\u001b[49m\n",
      "\u001b[0;31mKeyboardInterrupt\u001b[0m: "
     ]
    }
   ],
   "source": [
    "#evaluate testing set\n",
    "reuseModel.eval()\n",
    "test_loss=torch.tensor(float(0))\n",
    "with torch.no_grad():\n",
    "    for batch_idx, data in enumerate(test_loader):\n",
    "        img, lbl = data[\"image\"], data[\"label\"]\n",
    "        img, lbl = img.to(device), lbl.to(device)\n",
    "        output = reuseModel(img)\n",
    "        test_loss += F.nll_loss(output, lbl, reduction='sum').item()\n",
    "        accuracy = batch_idx / len(validation_loader)\n",
    "\n",
    "        if batch_idx % wandb.config[\"log_interval\"] == 0:\n",
    "            print('Test batch: {} [{}/{} ({:.0f}%)]\\tLoss: {:.6f}'.format(\n",
    "              batch_idx, batch_idx * len(img), len(validation_loader.dataset),\n",
    "              batch_idx / len(validation_loader), test_loss))\n",
    "            run.log({\"test_acc\": accuracy, \"test_loss\": test_loss}, step=batch_idx)"
   ]
  },
  {
   "cell_type": "code",
   "execution_count": 16,
   "id": "2998b430-1fee-4c3b-8dde-a08e05b4abc2",
   "metadata": {},
   "outputs": [
    {
     "data": {
      "application/vnd.jupyter.widget-view+json": {
       "model_id": "57098d1f30364b949175f31717703e03",
       "version_major": 2,
       "version_minor": 0
      },
      "text/plain": [
       "VBox(children=(Label(value='51774.941 MB of 51774.941 MB uploaded\\r'), FloatProgress(value=1.0, max=1.0)))"
      ]
     },
     "metadata": {},
     "output_type": "display_data"
    },
    {
     "data": {
      "text/html": [
       "<style>\n",
       "    table.wandb td:nth-child(1) { padding: 0 10px; text-align: left ; width: auto;} td:nth-child(2) {text-align: left ; width: 100%}\n",
       "    .wandb-row { display: flex; flex-direction: row; flex-wrap: wrap; justify-content: flex-start; width: 100% }\n",
       "    .wandb-col { display: flex; flex-direction: column; flex-basis: 100%; flex: 1; padding: 10px; }\n",
       "    </style>\n",
       "<div class=\"wandb-row\"><div class=\"wandb-col\"><h3>Run history:</h3><br/><table class=\"wandb\"><tr><td>test_acc</td><td>▁</td></tr><tr><td>test_loss</td><td>▁</td></tr></table><br/></div><div class=\"wandb-col\"><h3>Run summary:</h3><br/><table class=\"wandb\"><tr><td>test_acc</td><td>0.0</td></tr><tr><td>test_loss</td><td>5851.53027</td></tr></table><br/></div></div>"
      ],
      "text/plain": [
       "<IPython.core.display.HTML object>"
      ]
     },
     "metadata": {},
     "output_type": "display_data"
    },
    {
     "data": {
      "text/html": [
       " View run <strong style=\"color:#cdcd00\">stilted-morning-60</strong> at: <a href='https://wandb.ai/wandb-smle/aleal-domain-img/runs/stilted-morning-60' target=\"_blank\">https://wandb.ai/wandb-smle/aleal-domain-img/runs/stilted-morning-60</a><br/> View project at: <a href='https://wandb.ai/wandb-smle/aleal-domain-img' target=\"_blank\">https://wandb.ai/wandb-smle/aleal-domain-img</a><br/>Synced 4 W&B file(s), 0 media file(s), 11 artifact file(s) and 1 other file(s)"
      ],
      "text/plain": [
       "<IPython.core.display.HTML object>"
      ]
     },
     "metadata": {},
     "output_type": "display_data"
    },
    {
     "data": {
      "text/html": [
       "Find logs at: <code>./wandb/run-20240708_091721-stilted-morning-60/logs</code>"
      ],
      "text/plain": [
       "<IPython.core.display.HTML object>"
      ]
     },
     "metadata": {},
     "output_type": "display_data"
    }
   ],
   "source": [
    "run.finish()"
   ]
  },
  {
   "cell_type": "code",
   "execution_count": null,
   "id": "9088dd74-1202-4bd5-b6a4-2dd691dcd0ea",
   "metadata": {},
   "outputs": [],
   "source": [
    "## This did not end well"
   ]
  }
 ],
 "metadata": {
  "kernelspec": {
   "display_name": "Python 3 (ipykernel)",
   "language": "python",
   "name": "python3"
  },
  "language_info": {
   "codemirror_mode": {
    "name": "ipython",
    "version": 3
   },
   "file_extension": ".py",
   "mimetype": "text/x-python",
   "name": "python",
   "nbconvert_exporter": "python",
   "pygments_lexer": "ipython3",
   "version": "3.11.4"
  }
 },
 "nbformat": 4,
 "nbformat_minor": 5
}
