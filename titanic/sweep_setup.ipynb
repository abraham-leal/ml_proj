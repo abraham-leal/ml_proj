{
 "cells": [
  {
   "cell_type": "code",
   "execution_count": null,
   "id": "fd687376-38c1-4bc1-8186-38c72d46ecb8",
   "metadata": {},
   "outputs": [],
   "source": [
    "import wandb\n",
    "!wandb login"
   ]
  },
  {
   "cell_type": "code",
   "execution_count": null,
   "id": "fe57c93f-2871-46b7-8f81-9fb3f5a0d38b",
   "metadata": {},
   "outputs": [],
   "source": [
    "sweep_configuration = {\n",
    "    \"name\": \"kaggle_titanic_sweep\",\n",
    "    \"method\": \"bayes\",\n",
    "    \"metric\": {\"goal\": \"minimize\", \"name\": \"valid_loss\"},\n",
    "    \"parameters\": {\n",
    "        \"batchSize\": {\"values\": [16, 32, 64, 128]},\n",
    "        \"num_epochs\": {\"values\": [25, 50, 75, 100]},\n",
    "        \"lr\": {\"min\": 0.0001, \"max\": 0.1},\n",
    "    },\n",
    "}\n",
    "\n",
    "sweep_id = wandb.sweep(sweep=sweep_configuration, project=\"aleal-kaggle-titanic\")"
   ]
  }
 ],
 "metadata": {
  "kernelspec": {
   "display_name": "Python 3 (ipykernel)",
   "language": "python",
   "name": "python3"
  },
  "language_info": {
   "codemirror_mode": {
    "name": "ipython",
    "version": 3
   },
   "file_extension": ".py",
   "mimetype": "text/x-python",
   "name": "python",
   "nbconvert_exporter": "python",
   "pygments_lexer": "ipython3",
   "version": "3.11.4"
  }
 },
 "nbformat": 4,
 "nbformat_minor": 5
}
